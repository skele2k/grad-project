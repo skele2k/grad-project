{
 "cells": [
  {
   "cell_type": "markdown",
   "metadata": {},
   "source": [
    "### Data preprocessing"
   ]
  },
  {
   "cell_type": "code",
   "execution_count": 2,
   "metadata": {},
   "outputs": [],
   "source": [
    "import numpy as np\n",
    "import pandas as pd\n",
    "import matplotlib as plt"
   ]
  },
  {
   "cell_type": "code",
   "execution_count": 3,
   "metadata": {},
   "outputs": [
    {
     "data": {
      "text/html": [
       "<div>\n",
       "<style scoped>\n",
       "    .dataframe tbody tr th:only-of-type {\n",
       "        vertical-align: middle;\n",
       "    }\n",
       "\n",
       "    .dataframe tbody tr th {\n",
       "        vertical-align: top;\n",
       "    }\n",
       "\n",
       "    .dataframe thead th {\n",
       "        text-align: right;\n",
       "    }\n",
       "</style>\n",
       "<table border=\"1\" class=\"dataframe\">\n",
       "  <thead>\n",
       "    <tr style=\"text-align: right;\">\n",
       "      <th></th>\n",
       "      <th>timestamp</th>\n",
       "      <th>sector_id</th>\n",
       "      <th># of blocks</th>\n",
       "    </tr>\n",
       "  </thead>\n",
       "  <tbody>\n",
       "    <tr>\n",
       "      <th>0</th>\n",
       "      <td>1.652817</td>\n",
       "      <td>7487488</td>\n",
       "      <td>2048</td>\n",
       "    </tr>\n",
       "    <tr>\n",
       "      <th>1</th>\n",
       "      <td>1.652824</td>\n",
       "      <td>7489536</td>\n",
       "      <td>2048</td>\n",
       "    </tr>\n",
       "    <tr>\n",
       "      <th>2</th>\n",
       "      <td>1.652830</td>\n",
       "      <td>7491584</td>\n",
       "      <td>2048</td>\n",
       "    </tr>\n",
       "    <tr>\n",
       "      <th>3</th>\n",
       "      <td>1.652836</td>\n",
       "      <td>7493632</td>\n",
       "      <td>2048</td>\n",
       "    </tr>\n",
       "    <tr>\n",
       "      <th>4</th>\n",
       "      <td>1.652842</td>\n",
       "      <td>7495680</td>\n",
       "      <td>2048</td>\n",
       "    </tr>\n",
       "  </tbody>\n",
       "</table>\n",
       "</div>"
      ],
      "text/plain": [
       "   timestamp  sector_id  # of blocks\n",
       "0   1.652817    7487488         2048\n",
       "1   1.652824    7489536         2048\n",
       "2   1.652830    7491584         2048\n",
       "3   1.652836    7493632         2048\n",
       "4   1.652842    7495680         2048"
      ]
     },
     "execution_count": 3,
     "metadata": {},
     "output_type": "execute_result"
    }
   ],
   "source": [
    "trainingData = pd.read_csv('../../data/trainData.csv', header=None)\n",
    "# AATI = Average Access Time Interval\n",
    "trainingData.columns = [\"timestamp\", \"sector_id\", \"# of blocks\"]\n",
    "trainingData.head()\n",
    "\n",
    "# trainingData.Frequency.hist(bins=15)"
   ]
  },
  {
   "cell_type": "code",
   "execution_count": 4,
   "metadata": {},
   "outputs": [
    {
     "name": "stdout",
     "output_type": "stream",
     "text": [
      "   timestamp  sector_id  # of blocks\n",
      "0   0.000000     303567            7\n",
      "1   0.000000      55590            6\n",
      "2   0.026214     303574            7\n",
      "3   0.026214     240840            6\n",
      "4   0.117964     303581            7\n"
     ]
    }
   ],
   "source": [
    "testData = pd.read_csv(\"../../data/testData.csv\", header=None)\n",
    "testData.columns = [\"timestamp\", \"sector_id\", \"# of blocks\"]\n",
    "testData.head()\n",
    "\n",
    "print(testData.head())"
   ]
  },
  {
   "cell_type": "code",
   "execution_count": 5,
   "metadata": {},
   "outputs": [
    {
     "name": "stdout",
     "output_type": "stream",
     "text": [
      "   sector_id  frequency      AATI  # of blocks  hot/cold\n",
      "0     753921      90736  0.459198       544416         1\n",
      "1     240840      48735  0.886414       292465         1\n",
      "2     836706      31787  1.296780       195293         1\n",
      "3     837306      31704  1.299350       192217         1\n",
      "4     700132      31288  1.156710       247313         1\n"
     ]
    }
   ],
   "source": [
    "testDataLabel = pd.read_csv(\"../../data/lableing/testDataLabeled.csv\", header=None)\n",
    "testDataLabel.columns = [\"sector_id\", \"frequency\", \"AATI\", \"# of blocks\",\"hot/cold\"]\n",
    "print(testDataLabel.head())"
   ]
  },
  {
   "cell_type": "code",
   "execution_count": 6,
   "metadata": {},
   "outputs": [
    {
     "name": "stdout",
     "output_type": "stream",
     "text": [
      "   sector_id  frequency     AATI  # of blocks  hot/cold\n",
      "0       8488        966  36.0808         7728         1\n",
      "1     205888        948  36.7295         7584         1\n",
      "2     206064        948  36.7666         7584         1\n",
      "3      74328        947  36.7683         7576         1\n",
      "4      74408        945  36.8834         7560         1\n"
     ]
    }
   ],
   "source": [
    "trainDataLabel = pd.read_csv(\"../../data/lableing/trainDataLabeled.csv\", header=None)\n",
    "trainDataLabel.columns = [\"sector_id\", \"frequency\", \"AATI\", \"# of blocks\",\"hot/cold\"]\n",
    "print(trainDataLabel.head())"
   ]
  },
  {
   "cell_type": "code",
   "execution_count": 7,
   "metadata": {},
   "outputs": [
    {
     "name": "stdout",
     "output_type": "stream",
     "text": [
      "trainDataLabel size: 1586700\n"
     ]
    }
   ],
   "source": [
    "# Constants\n",
    "trainLabelSize = trainDataLabel[\"sector_id\"].size\n",
    "print(\"trainDataLabel size:\", trainLabelSize)"
   ]
  },
  {
   "cell_type": "code",
   "execution_count": 8,
   "metadata": {},
   "outputs": [
    {
     "data": {
      "text/plain": [
       "sector_id        int64\n",
       "frequency        int64\n",
       "AATI           float64\n",
       "# of blocks      int64\n",
       "hot/cold         int64\n",
       "dtype: object"
      ]
     },
     "execution_count": 8,
     "metadata": {},
     "output_type": "execute_result"
    }
   ],
   "source": [
    "trainDataLabel.dtypes"
   ]
  },
  {
   "cell_type": "code",
   "execution_count": 9,
   "metadata": {},
   "outputs": [
    {
     "data": {
      "text/plain": [
       "timestamp      float64\n",
       "sector_id        int64\n",
       "# of blocks      int64\n",
       "dtype: object"
      ]
     },
     "execution_count": 9,
     "metadata": {},
     "output_type": "execute_result"
    }
   ],
   "source": [
    "trainingData.dtypes"
   ]
  },
  {
   "cell_type": "code",
   "execution_count": 10,
   "metadata": {},
   "outputs": [],
   "source": [
    "trainingYLabelMap = {}\n",
    "\n",
    "for i in range(trainLabelSize):\n",
    "    trainingYLabelMap[trainDataLabel[\"sector_id\"][i]] = trainDataLabel[\"hot/cold\"][i]\n",
    "\n",
    "trainingData[\"hot/cold\"] = [trainingYLabelMap[sectorId] if sectorId in trainingYLabelMap else np.nan for sectorId in trainingData[\"sector_id\"]]\n"
   ]
  },
  {
   "cell_type": "code",
   "execution_count": 22,
   "metadata": {},
   "outputs": [],
   "source": [
    "testLabelSize = testDataLabel[\"sector_id\"].size\n",
    "testYLabelMap = {}\n",
    "\n",
    "for i in range(testLabelSize):\n",
    "    testYLabelMap[testDataLabel[\"sector_id\"][i]] = testDataLabel[\"hot/cold\"][i]\n",
    "\n",
    "testData[\"hot/cold\"] = [testYLabelMap[sectorId] if sectorId in testYLabelMap else np.nan for sectorId in testData[\"sector_id\"]]"
   ]
  },
  {
   "cell_type": "code",
   "execution_count": 11,
   "metadata": {},
   "outputs": [
    {
     "data": {
      "text/plain": [
       "0    1354099\n",
       "1     232601\n",
       "Name: hot/cold, dtype: int64"
      ]
     },
     "execution_count": 11,
     "metadata": {},
     "output_type": "execute_result"
    }
   ],
   "source": [
    "trainDataLabel[\"hot/cold\"].value_counts()"
   ]
  },
  {
   "cell_type": "code",
   "execution_count": 12,
   "metadata": {},
   "outputs": [
    {
     "data": {
      "text/plain": [
       "1    6057980\n",
       "0    3628281\n",
       "Name: hot/cold, dtype: int64"
      ]
     },
     "execution_count": 12,
     "metadata": {},
     "output_type": "execute_result"
    }
   ],
   "source": [
    "trainingData[\"hot/cold\"].value_counts()\n"
   ]
  },
  {
   "cell_type": "code",
   "execution_count": 23,
   "metadata": {},
   "outputs": [
    {
     "data": {
      "text/plain": [
       "1    2070048\n",
       "0    2029306\n",
       "Name: hot/cold, dtype: int64"
      ]
     },
     "execution_count": 23,
     "metadata": {},
     "output_type": "execute_result"
    }
   ],
   "source": [
    "testData[\"hot/cold\"].value_counts()"
   ]
  },
  {
   "cell_type": "code",
   "execution_count": 13,
   "metadata": {},
   "outputs": [],
   "source": [
    "# Normalizing number of blocks\n",
    "trainBlocksMean = trainingData[\"# of blocks\"].mean()\n",
    "trainBlocksStd = trainingData[\"# of blocks\"].std()\n",
    "\n",
    "trainingData[\"# of blocks\"] = (trainingData[\"# of blocks\"] - trainBlocksMean) / trainBlocksStd\n",
    "\n",
    "testBlocksMean = testData[\"# of blocks\"].mean()\n",
    "testBlocksStd = testData[\"# of blocks\"].std()\n",
    "\n",
    "testData[\"# of blocks\"] = (testData[\"# of blocks\"] - testBlocksMean) / testBlocksStd"
   ]
  },
  {
   "cell_type": "code",
   "execution_count": 14,
   "metadata": {},
   "outputs": [],
   "source": [
    "import seaborn as sns"
   ]
  },
  {
   "cell_type": "code",
   "execution_count": 17,
   "metadata": {},
   "outputs": [
    {
     "ename": "TypeError",
     "evalue": "'module' object is not callable",
     "output_type": "error",
     "traceback": [
      "\u001b[0;31m---------------------------------------------------------------------------\u001b[0m",
      "\u001b[0;31mTypeError\u001b[0m                                 Traceback (most recent call last)",
      "\u001b[1;32m/home/skele/Documents/PNU/grad/grad-project/src/model/rnn_model.ipynb Cell 15\u001b[0m in \u001b[0;36m<cell line: 1>\u001b[0;34m()\u001b[0m\n\u001b[0;32m----> <a href='vscode-notebook-cell:/home/skele/Documents/PNU/grad/grad-project/src/model/rnn_model.ipynb#ch0000022?line=0'>1</a>\u001b[0m plt\u001b[39m.\u001b[39;49mfigure(figsize\u001b[39m=\u001b[39;49m(\u001b[39m12\u001b[39;49m,\u001b[39m6\u001b[39;49m))\n\u001b[1;32m      <a href='vscode-notebook-cell:/home/skele/Documents/PNU/grad/grad-project/src/model/rnn_model.ipynb#ch0000022?line=1'>2</a>\u001b[0m ax \u001b[39m=\u001b[39m sns\u001b[39m.\u001b[39mviolinplot(x\u001b[39m=\u001b[39m\u001b[39m'\u001b[39m\u001b[39mColumn\u001b[39m\u001b[39m'\u001b[39m, y\u001b[39m=\u001b[39m\u001b[39m'\u001b[39m\u001b[39mNormalized\u001b[39m\u001b[39m'\u001b[39m, data\u001b[39m=\u001b[39mtrainingData[\u001b[39m\"\u001b[39m\u001b[39m# of blocks\u001b[39m\u001b[39m\"\u001b[39m])\n",
      "\u001b[0;31mTypeError\u001b[0m: 'module' object is not callable"
     ]
    }
   ],
   "source": [
    "# Tried to plot the normalized data, ran into some kind of error . . .\n",
    "plt.figure(figsize=(12,6))\n",
    "ax = sns.violinplot(x='Column', y='Normalized', data=trainingData[\"# of blocks\"])"
   ]
  },
  {
   "cell_type": "code",
   "execution_count": 14,
   "metadata": {},
   "outputs": [],
   "source": [
    "features = trainingData[[\"sector_id\",\"# of blocks\"]].to_numpy().tolist()\n",
    "target = trainingData[[\"hot/cold\"]].to_numpy().tolist()\n",
    "\n"
   ]
  },
  {
   "cell_type": "code",
   "execution_count": 15,
   "metadata": {},
   "outputs": [
    {
     "data": {
      "text/plain": [
       "[[7487488.0, 0.6759364762275851],\n",
       " [7489536.0, 0.6759364762275851],\n",
       " [7491584.0, 0.6759364762275851],\n",
       " [7493632.0, 0.6759364762275851],\n",
       " [7495680.0, 0.6759364762275851]]"
      ]
     },
     "execution_count": 15,
     "metadata": {},
     "output_type": "execute_result"
    }
   ],
   "source": [
    "features[0:5]\n"
   ]
  },
  {
   "cell_type": "code",
   "execution_count": 16,
   "metadata": {},
   "outputs": [
    {
     "data": {
      "text/plain": [
       "[[0], [0], [0], [0], [0], [0], [0], [0], [0], [0], [0]]"
      ]
     },
     "execution_count": 16,
     "metadata": {},
     "output_type": "execute_result"
    }
   ],
   "source": [
    "target[0:11]"
   ]
  },
  {
   "cell_type": "markdown",
   "metadata": {},
   "source": [
    "### Model Implementation"
   ]
  },
  {
   "cell_type": "code",
   "execution_count": 17,
   "metadata": {},
   "outputs": [],
   "source": [
    "import tensorflow as tf"
   ]
  },
  {
   "cell_type": "code",
   "execution_count": 18,
   "metadata": {},
   "outputs": [
    {
     "name": "stdout",
     "output_type": "stream",
     "text": [
      "maxSectorNumber: 1000213824\n",
      "maxBlocks: 0.6759364762275851\n"
     ]
    }
   ],
   "source": [
    "maxSectorNumber = np.amax(trainingData[\"sector_id\"])\n",
    "maxBlocks = np.amax(trainingData[\"# of blocks\"])\n",
    "print(\"maxSectorNumber:\", maxSectorNumber)\n",
    "print(\"maxBlocks:\", maxBlocks)"
   ]
  },
  {
   "cell_type": "code",
   "execution_count": 20,
   "metadata": {},
   "outputs": [
    {
     "name": "stderr",
     "output_type": "stream",
     "text": [
      "2022-07-24 22:30:27.768337: W tensorflow/core/framework/cpu_allocator_impl.cc:82] Allocation of 256054739200 exceeds 10% of free system memory.\n",
      "2022-07-24 22:30:27.768603: W tensorflow/core/framework/op_kernel.cc:1745] OP_REQUIRES failed at random_op.cc:74 : RESOURCE_EXHAUSTED: OOM when allocating tensor with shape[1000213825,64] and type float on /job:localhost/replica:0/task:0/device:CPU:0 by allocator cpu\n"
     ]
    },
    {
     "ename": "ResourceExhaustedError",
     "evalue": "OOM when allocating tensor with shape[1000213825,64] and type float on /job:localhost/replica:0/task:0/device:CPU:0 by allocator cpu [Op:RandomUniform]",
     "output_type": "error",
     "traceback": [
      "\u001b[0;31m---------------------------------------------------------------------------\u001b[0m",
      "\u001b[0;31mResourceExhaustedError\u001b[0m                    Traceback (most recent call last)",
      "\u001b[1;32m/home/skele/Documents/PNU/grad/grad-project/src/model/rnn_model.ipynb Cell 22\u001b[0m in \u001b[0;36m<cell line: 1>\u001b[0;34m()\u001b[0m\n\u001b[1;32m      <a href='vscode-notebook-cell:/home/skele/Documents/PNU/grad/grad-project/src/model/rnn_model.ipynb#ch0000023?line=0'>1</a>\u001b[0m \u001b[39mwith\u001b[39;00m tf\u001b[39m.\u001b[39mdevice(\u001b[39m'\u001b[39m\u001b[39m/gpu:1\u001b[39m\u001b[39m'\u001b[39m):\n\u001b[1;32m      <a href='vscode-notebook-cell:/home/skele/Documents/PNU/grad/grad-project/src/model/rnn_model.ipynb#ch0000023?line=1'>2</a>\u001b[0m     embeddingLayer \u001b[39m=\u001b[39m tf\u001b[39m.\u001b[39mkeras\u001b[39m.\u001b[39mlayers\u001b[39m.\u001b[39mEmbedding(input_dim\u001b[39m=\u001b[39mmaxSectorNumber\u001b[39m+\u001b[39m\u001b[39m1\u001b[39m, output_dim\u001b[39m=\u001b[39m\u001b[39m64\u001b[39m)\n\u001b[0;32m----> <a href='vscode-notebook-cell:/home/skele/Documents/PNU/grad/grad-project/src/model/rnn_model.ipynb#ch0000023?line=2'>3</a>\u001b[0m     trainingData[\u001b[39m\"\u001b[39m\u001b[39msector_id\u001b[39m\u001b[39m\"\u001b[39m] \u001b[39m=\u001b[39m embeddingLayer(trainingData[\u001b[39m\"\u001b[39;49m\u001b[39msector_id\u001b[39;49m\u001b[39m\"\u001b[39;49m])\n",
      "File \u001b[0;32m~/.local/lib/python3.10/site-packages/keras/utils/traceback_utils.py:67\u001b[0m, in \u001b[0;36mfilter_traceback.<locals>.error_handler\u001b[0;34m(*args, **kwargs)\u001b[0m\n\u001b[1;32m     65\u001b[0m \u001b[39mexcept\u001b[39;00m \u001b[39mException\u001b[39;00m \u001b[39mas\u001b[39;00m e:  \u001b[39m# pylint: disable=broad-except\u001b[39;00m\n\u001b[1;32m     66\u001b[0m   filtered_tb \u001b[39m=\u001b[39m _process_traceback_frames(e\u001b[39m.\u001b[39m__traceback__)\n\u001b[0;32m---> 67\u001b[0m   \u001b[39mraise\u001b[39;00m e\u001b[39m.\u001b[39mwith_traceback(filtered_tb) \u001b[39mfrom\u001b[39;00m \u001b[39mNone\u001b[39m\n\u001b[1;32m     68\u001b[0m \u001b[39mfinally\u001b[39;00m:\n\u001b[1;32m     69\u001b[0m   \u001b[39mdel\u001b[39;00m filtered_tb\n",
      "File \u001b[0;32m~/.local/lib/python3.10/site-packages/keras/backend.py:1920\u001b[0m, in \u001b[0;36mRandomGenerator.random_uniform\u001b[0;34m(self, shape, minval, maxval, dtype)\u001b[0m\n\u001b[1;32m   1917\u001b[0m \u001b[39mif\u001b[39;00m \u001b[39mself\u001b[39m\u001b[39m.\u001b[39m_generator:\n\u001b[1;32m   1918\u001b[0m   \u001b[39mreturn\u001b[39;00m \u001b[39mself\u001b[39m\u001b[39m.\u001b[39m_generator\u001b[39m.\u001b[39muniform(\n\u001b[1;32m   1919\u001b[0m       shape\u001b[39m=\u001b[39mshape, minval\u001b[39m=\u001b[39mminval, maxval\u001b[39m=\u001b[39mmaxval, dtype\u001b[39m=\u001b[39mdtype)\n\u001b[0;32m-> 1920\u001b[0m \u001b[39mreturn\u001b[39;00m tf\u001b[39m.\u001b[39;49mrandom\u001b[39m.\u001b[39;49muniform(\n\u001b[1;32m   1921\u001b[0m     shape\u001b[39m=\u001b[39;49mshape, minval\u001b[39m=\u001b[39;49mminval, maxval\u001b[39m=\u001b[39;49mmaxval, dtype\u001b[39m=\u001b[39;49mdtype,\n\u001b[1;32m   1922\u001b[0m     seed\u001b[39m=\u001b[39;49m\u001b[39mself\u001b[39;49m\u001b[39m.\u001b[39;49mmake_legacy_seed())\n",
      "\u001b[0;31mResourceExhaustedError\u001b[0m: OOM when allocating tensor with shape[1000213825,64] and type float on /job:localhost/replica:0/task:0/device:CPU:0 by allocator cpu [Op:RandomUniform]"
     ]
    }
   ],
   "source": [
    "with tf.device('/gpu:1'):\n",
    "    embeddingLayer = tf.keras.layers.Embedding(input_dim=maxSectorNumber+1, output_dim=64)\n",
    "    trainingData[\"sector_id\"] = embeddingLayer(trainingData[\"sector_id\"])"
   ]
  },
  {
   "cell_type": "code",
   "execution_count": 34,
   "metadata": {},
   "outputs": [
    {
     "name": "stderr",
     "output_type": "stream",
     "text": [
      "2022-07-22 01:29:14.219727: I tensorflow/stream_executor/cuda/cuda_gpu_executor.cc:975] successful NUMA node read from SysFS had negative value (-1), but there must be at least one NUMA node, so returning NUMA node zero\n",
      "2022-07-22 01:29:14.220148: W tensorflow/stream_executor/platform/default/dso_loader.cc:64] Could not load dynamic library 'libcudart.so.11.0'; dlerror: libcudart.so.11.0: cannot open shared object file: No such file or directory\n",
      "2022-07-22 01:29:14.220236: W tensorflow/stream_executor/platform/default/dso_loader.cc:64] Could not load dynamic library 'libcublas.so.11'; dlerror: libcublas.so.11: cannot open shared object file: No such file or directory\n",
      "2022-07-22 01:29:14.220299: W tensorflow/stream_executor/platform/default/dso_loader.cc:64] Could not load dynamic library 'libcublasLt.so.11'; dlerror: libcublasLt.so.11: cannot open shared object file: No such file or directory\n",
      "2022-07-22 01:29:14.220364: W tensorflow/stream_executor/platform/default/dso_loader.cc:64] Could not load dynamic library 'libcufft.so.10'; dlerror: libcufft.so.10: cannot open shared object file: No such file or directory\n",
      "2022-07-22 01:29:14.220423: W tensorflow/stream_executor/platform/default/dso_loader.cc:64] Could not load dynamic library 'libcurand.so.10'; dlerror: libcurand.so.10: cannot open shared object file: No such file or directory\n",
      "2022-07-22 01:29:14.220483: W tensorflow/stream_executor/platform/default/dso_loader.cc:64] Could not load dynamic library 'libcusolver.so.11'; dlerror: libcusolver.so.11: cannot open shared object file: No such file or directory\n",
      "2022-07-22 01:29:14.220539: W tensorflow/stream_executor/platform/default/dso_loader.cc:64] Could not load dynamic library 'libcusparse.so.11'; dlerror: libcusparse.so.11: cannot open shared object file: No such file or directory\n",
      "2022-07-22 01:29:14.220598: W tensorflow/stream_executor/platform/default/dso_loader.cc:64] Could not load dynamic library 'libcudnn.so.8'; dlerror: libcudnn.so.8: cannot open shared object file: No such file or directory\n",
      "2022-07-22 01:29:14.220608: W tensorflow/core/common_runtime/gpu/gpu_device.cc:1850] Cannot dlopen some GPU libraries. Please make sure the missing libraries mentioned above are installed properly if you would like to use GPU. Follow the guide at https://www.tensorflow.org/install/gpu for how to download and setup the required libraries for your platform.\n",
      "Skipping registering GPU devices...\n",
      "2022-07-22 01:29:14.220892: I tensorflow/core/platform/cpu_feature_guard.cc:193] This TensorFlow binary is optimized with oneAPI Deep Neural Network Library (oneDNN) to use the following CPU instructions in performance-critical operations:  AVX2 FMA\n",
      "To enable them in other operations, rebuild TensorFlow with the appropriate compiler flags.\n"
     ]
    }
   ],
   "source": [
    "model = Sequential()\n",
    "\n",
    "# embedding the sector number from 0-1\n",
    "model.add(tf.keras.layers.Embedding(input_dim=maxSectorNumber+1,output_dim=64))\n",
    "\n",
    "model.add(tf.keras.layers.LSTM)"
   ]
  },
  {
   "cell_type": "code",
   "execution_count": null,
   "metadata": {},
   "outputs": [],
   "source": []
  }
 ],
 "metadata": {
  "kernelspec": {
   "display_name": "Python 3.10.4 64-bit",
   "language": "python",
   "name": "python3"
  },
  "language_info": {
   "codemirror_mode": {
    "name": "ipython",
    "version": 3
   },
   "file_extension": ".py",
   "mimetype": "text/x-python",
   "name": "python",
   "nbconvert_exporter": "python",
   "pygments_lexer": "ipython3",
   "version": "3.10.4"
  },
  "orig_nbformat": 4,
  "vscode": {
   "interpreter": {
    "hash": "31f2aee4e71d21fbe5cf8b01ff0e069b9275f58929596ceb00d14d90e3e16cd6"
   }
  }
 },
 "nbformat": 4,
 "nbformat_minor": 2
}
