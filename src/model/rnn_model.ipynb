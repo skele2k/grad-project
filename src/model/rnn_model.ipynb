{
 "cells": [
  {
   "cell_type": "markdown",
   "metadata": {},
   "source": [
    "### Data preprocessing"
   ]
  },
  {
   "cell_type": "code",
   "execution_count": 1,
   "metadata": {},
   "outputs": [],
   "source": [
    "import numpy as np\n",
    "import pandas as pd\n",
    "import matplotlib as plt"
   ]
  },
  {
   "cell_type": "code",
   "execution_count": 2,
   "metadata": {},
   "outputs": [
    {
     "data": {
      "text/html": [
       "<div>\n",
       "<style scoped>\n",
       "    .dataframe tbody tr th:only-of-type {\n",
       "        vertical-align: middle;\n",
       "    }\n",
       "\n",
       "    .dataframe tbody tr th {\n",
       "        vertical-align: top;\n",
       "    }\n",
       "\n",
       "    .dataframe thead th {\n",
       "        text-align: right;\n",
       "    }\n",
       "</style>\n",
       "<table border=\"1\" class=\"dataframe\">\n",
       "  <thead>\n",
       "    <tr style=\"text-align: right;\">\n",
       "      <th></th>\n",
       "      <th>timestamp</th>\n",
       "      <th>sector_id</th>\n",
       "      <th># of blocks</th>\n",
       "    </tr>\n",
       "  </thead>\n",
       "  <tbody>\n",
       "    <tr>\n",
       "      <th>0</th>\n",
       "      <td>1.652817</td>\n",
       "      <td>7487488</td>\n",
       "      <td>2048</td>\n",
       "    </tr>\n",
       "    <tr>\n",
       "      <th>1</th>\n",
       "      <td>1.652824</td>\n",
       "      <td>7489536</td>\n",
       "      <td>2048</td>\n",
       "    </tr>\n",
       "    <tr>\n",
       "      <th>2</th>\n",
       "      <td>1.652830</td>\n",
       "      <td>7491584</td>\n",
       "      <td>2048</td>\n",
       "    </tr>\n",
       "    <tr>\n",
       "      <th>3</th>\n",
       "      <td>1.652836</td>\n",
       "      <td>7493632</td>\n",
       "      <td>2048</td>\n",
       "    </tr>\n",
       "    <tr>\n",
       "      <th>4</th>\n",
       "      <td>1.652842</td>\n",
       "      <td>7495680</td>\n",
       "      <td>2048</td>\n",
       "    </tr>\n",
       "  </tbody>\n",
       "</table>\n",
       "</div>"
      ],
      "text/plain": [
       "   timestamp  sector_id  # of blocks\n",
       "0   1.652817    7487488         2048\n",
       "1   1.652824    7489536         2048\n",
       "2   1.652830    7491584         2048\n",
       "3   1.652836    7493632         2048\n",
       "4   1.652842    7495680         2048"
      ]
     },
     "execution_count": 2,
     "metadata": {},
     "output_type": "execute_result"
    }
   ],
   "source": [
    "trainingData = pd.read_csv('../../data/trainData.csv', header=None)\n",
    "# AATI = Average Access Time Interval\n",
    "trainingData.columns = [\"timestamp\", \"sector_id\", \"# of blocks\"]\n",
    "trainingData.head()\n",
    "\n",
    "# trainingData.Frequency.hist(bins=15)"
   ]
  },
  {
   "cell_type": "code",
   "execution_count": 3,
   "metadata": {},
   "outputs": [
    {
     "name": "stdout",
     "output_type": "stream",
     "text": [
      "   timestamp  sector_id  # of blocks\n",
      "0   0.000000     303567            7\n",
      "1   0.000000      55590            6\n",
      "2   0.026214     303574            7\n",
      "3   0.026214     240840            6\n",
      "4   0.117964     303581            7\n"
     ]
    }
   ],
   "source": [
    "testData = pd.read_csv(\"../../data/testData.csv\", header=None)\n",
    "testData.columns = [\"timestamp\", \"sector_id\", \"# of blocks\"]\n",
    "testData.head()\n",
    "\n",
    "print(testData.head())"
   ]
  },
  {
   "cell_type": "code",
   "execution_count": 4,
   "metadata": {},
   "outputs": [
    {
     "name": "stdout",
     "output_type": "stream",
     "text": [
      "   sector_id  frequency      AATI  # of blocks  hot/cold\n",
      "0     753921      90736  0.459198       544416         1\n",
      "1     240840      48735  0.886414       292465         1\n",
      "2     836706      31787  1.296780       195293         1\n",
      "3     837306      31704  1.299350       192217         1\n",
      "4     700132      31288  1.156710       247313         1\n"
     ]
    }
   ],
   "source": [
    "testDataLabel = pd.read_csv(\"../../data/lableing/testDataLabeled.csv\", header=None)\n",
    "testDataLabel.columns = [\"sector_id\", \"frequency\", \"AATI\", \"# of blocks\",\"hot/cold\"]\n",
    "print(testDataLabel.head())"
   ]
  },
  {
   "cell_type": "code",
   "execution_count": 5,
   "metadata": {},
   "outputs": [
    {
     "name": "stdout",
     "output_type": "stream",
     "text": [
      "   sector_id  frequency     AATI  # of blocks  hot/cold\n",
      "0       8488        966  36.0808         7728         1\n",
      "1     205888        948  36.7295         7584         1\n",
      "2     206064        948  36.7666         7584         1\n",
      "3      74328        947  36.7683         7576         1\n",
      "4      74408        945  36.8834         7560         1\n"
     ]
    }
   ],
   "source": [
    "trainDataLabel = pd.read_csv(\"../../data/lableing/trainDataLabeled.csv\", header=None)\n",
    "trainDataLabel.columns = [\"sector_id\", \"frequency\", \"AATI\", \"# of blocks\",\"hot/cold\"]\n",
    "print(trainDataLabel.head())"
   ]
  },
  {
   "cell_type": "code",
   "execution_count": 6,
   "metadata": {},
   "outputs": [
    {
     "name": "stdout",
     "output_type": "stream",
     "text": [
      "trainDataLabel size: 1586700\n"
     ]
    }
   ],
   "source": [
    "# Constants\n",
    "trainLabelSize = trainDataLabel[\"sector_id\"].size\n",
    "print(\"trainDataLabel size:\", trainLabelSize)"
   ]
  },
  {
   "cell_type": "code",
   "execution_count": 7,
   "metadata": {},
   "outputs": [
    {
     "data": {
      "text/plain": [
       "sector_id        int64\n",
       "frequency        int64\n",
       "AATI           float64\n",
       "# of blocks      int64\n",
       "hot/cold         int64\n",
       "dtype: object"
      ]
     },
     "execution_count": 7,
     "metadata": {},
     "output_type": "execute_result"
    }
   ],
   "source": [
    "trainDataLabel.dtypes"
   ]
  },
  {
   "cell_type": "code",
   "execution_count": 8,
   "metadata": {},
   "outputs": [
    {
     "data": {
      "text/plain": [
       "timestamp      float64\n",
       "sector_id        int64\n",
       "# of blocks      int64\n",
       "dtype: object"
      ]
     },
     "execution_count": 8,
     "metadata": {},
     "output_type": "execute_result"
    }
   ],
   "source": [
    "trainingData.dtypes"
   ]
  },
  {
   "cell_type": "code",
   "execution_count": 9,
   "metadata": {},
   "outputs": [],
   "source": [
    "trainingYLabelMap = {}\n",
    "\n",
    "for i in range(trainLabelSize):\n",
    "    trainingYLabelMap[trainDataLabel[\"sector_id\"][i]] = trainDataLabel[\"hot/cold\"][i]\n",
    "\n",
    "trainingData[\"hot/cold\"] = [trainingYLabelMap[sectorId] if sectorId in trainingYLabelMap else np.nan for sectorId in trainingData[\"sector_id\"]]\n"
   ]
  },
  {
   "cell_type": "code",
   "execution_count": 10,
   "metadata": {},
   "outputs": [],
   "source": [
    "testLabelSize = testDataLabel[\"sector_id\"].size\n",
    "testYLabelMap = {}\n",
    "\n",
    "for i in range(testLabelSize):\n",
    "    testYLabelMap[testDataLabel[\"sector_id\"][i]] = testDataLabel[\"hot/cold\"][i]\n",
    "\n",
    "testData[\"hot/cold\"] = [testYLabelMap[sectorId] if sectorId in testYLabelMap else np.nan for sectorId in testData[\"sector_id\"]]"
   ]
  },
  {
   "cell_type": "code",
   "execution_count": 11,
   "metadata": {},
   "outputs": [
    {
     "data": {
      "text/plain": [
       "0    1354099\n",
       "1     232601\n",
       "Name: hot/cold, dtype: int64"
      ]
     },
     "execution_count": 11,
     "metadata": {},
     "output_type": "execute_result"
    }
   ],
   "source": [
    "trainDataLabel[\"hot/cold\"].value_counts()"
   ]
  },
  {
   "cell_type": "code",
   "execution_count": 12,
   "metadata": {},
   "outputs": [
    {
     "data": {
      "text/plain": [
       "1    6057980\n",
       "0    3628281\n",
       "Name: hot/cold, dtype: int64"
      ]
     },
     "execution_count": 12,
     "metadata": {},
     "output_type": "execute_result"
    }
   ],
   "source": [
    "trainingData[\"hot/cold\"].value_counts()\n"
   ]
  },
  {
   "cell_type": "code",
   "execution_count": 13,
   "metadata": {},
   "outputs": [
    {
     "data": {
      "text/plain": [
       "1    2070048\n",
       "0    2029306\n",
       "Name: hot/cold, dtype: int64"
      ]
     },
     "execution_count": 13,
     "metadata": {},
     "output_type": "execute_result"
    }
   ],
   "source": [
    "testData[\"hot/cold\"].value_counts()"
   ]
  },
  {
   "cell_type": "code",
   "execution_count": 15,
   "metadata": {},
   "outputs": [],
   "source": [
    "# Normalizing number of blocks\n",
    "trainBlocksMean = trainingData[\"# of blocks\"].mean()\n",
    "trainBlocksStd = trainingData[\"# of blocks\"].std()\n",
    "\n",
    "trainingData[\"# of blocks\"] = (trainingData[\"# of blocks\"] - trainBlocksMean) / trainBlocksStd\n",
    "\n",
    "testBlocksMean = testData[\"# of blocks\"].mean()\n",
    "testBlocksStd = testData[\"# of blocks\"].std()\n",
    "\n",
    "testData[\"# of blocks\"] = (testData[\"# of blocks\"] - testBlocksMean) / testBlocksStd"
   ]
  },
  {
   "cell_type": "code",
   "execution_count": 16,
   "metadata": {},
   "outputs": [],
   "source": [
    "# Try univariate LSTM first\n",
    "features = trainingData[[\"sector_id\"]].to_numpy().tolist()\n",
    "target = trainingData[[\"hot/cold\"]].to_numpy().tolist()"
   ]
  },
  {
   "cell_type": "code",
   "execution_count": 17,
   "metadata": {},
   "outputs": [
    {
     "data": {
      "text/plain": [
       "[[7487488.0, 0.6759364762275851],\n",
       " [7489536.0, 0.6759364762275851],\n",
       " [7491584.0, 0.6759364762275851],\n",
       " [7493632.0, 0.6759364762275851],\n",
       " [7495680.0, 0.6759364762275851]]"
      ]
     },
     "execution_count": 17,
     "metadata": {},
     "output_type": "execute_result"
    }
   ],
   "source": [
    "features[0:5]\n"
   ]
  },
  {
   "cell_type": "code",
   "execution_count": 18,
   "metadata": {},
   "outputs": [
    {
     "data": {
      "text/plain": [
       "[[0], [0], [0], [0], [0], [0], [0], [0], [0], [0], [0]]"
      ]
     },
     "execution_count": 18,
     "metadata": {},
     "output_type": "execute_result"
    }
   ],
   "source": [
    "target[0:11]"
   ]
  },
  {
   "cell_type": "markdown",
   "metadata": {},
   "source": [
    "### Model Implementation"
   ]
  },
  {
   "cell_type": "code",
   "execution_count": 19,
   "metadata": {},
   "outputs": [
    {
     "name": "stderr",
     "output_type": "stream",
     "text": [
      "2022-07-25 03:02:01.034409: I tensorflow/core/platform/cpu_feature_guard.cc:193] This TensorFlow binary is optimized with oneAPI Deep Neural Network Library (oneDNN) to use the following CPU instructions in performance-critical operations:  AVX2 FMA\n",
      "To enable them in other operations, rebuild TensorFlow with the appropriate compiler flags.\n",
      "2022-07-25 03:02:01.231696: E tensorflow/stream_executor/cuda/cuda_blas.cc:2981] Unable to register cuBLAS factory: Attempting to register factory for plugin cuBLAS when one has already been registered\n",
      "2022-07-25 03:02:01.870626: W tensorflow/stream_executor/platform/default/dso_loader.cc:64] Could not load dynamic library 'libnvinfer.so.7'; dlerror: libnvinfer.so.7: cannot open shared object file: No such file or directory\n",
      "2022-07-25 03:02:01.870735: W tensorflow/stream_executor/platform/default/dso_loader.cc:64] Could not load dynamic library 'libnvinfer_plugin.so.7'; dlerror: libnvinfer_plugin.so.7: cannot open shared object file: No such file or directory\n",
      "2022-07-25 03:02:01.870744: W tensorflow/compiler/tf2tensorrt/utils/py_utils.cc:38] TF-TRT Warning: Cannot dlopen some TensorRT libraries. If you would like to use Nvidia GPU with TensorRT, please make sure the missing libraries mentioned above are installed properly.\n"
     ]
    }
   ],
   "source": [
    "import tensorflow as tf"
   ]
  },
  {
   "cell_type": "code",
   "execution_count": 20,
   "metadata": {},
   "outputs": [
    {
     "name": "stderr",
     "output_type": "stream",
     "text": [
      "2022-07-25 03:03:03.654093: I tensorflow/stream_executor/cuda/cuda_gpu_executor.cc:980] successful NUMA node read from SysFS had negative value (-1), but there must be at least one NUMA node, so returning NUMA node zero\n",
      "2022-07-25 03:03:03.712273: I tensorflow/stream_executor/cuda/cuda_gpu_executor.cc:980] successful NUMA node read from SysFS had negative value (-1), but there must be at least one NUMA node, so returning NUMA node zero\n",
      "2022-07-25 03:03:03.712688: I tensorflow/stream_executor/cuda/cuda_gpu_executor.cc:980] successful NUMA node read from SysFS had negative value (-1), but there must be at least one NUMA node, so returning NUMA node zero\n",
      "2022-07-25 03:03:03.714228: I tensorflow/core/platform/cpu_feature_guard.cc:193] This TensorFlow binary is optimized with oneAPI Deep Neural Network Library (oneDNN) to use the following CPU instructions in performance-critical operations:  AVX2 FMA\n",
      "To enable them in other operations, rebuild TensorFlow with the appropriate compiler flags.\n",
      "2022-07-25 03:03:03.714684: I tensorflow/stream_executor/cuda/cuda_gpu_executor.cc:980] successful NUMA node read from SysFS had negative value (-1), but there must be at least one NUMA node, so returning NUMA node zero\n",
      "2022-07-25 03:03:03.715483: I tensorflow/stream_executor/cuda/cuda_gpu_executor.cc:980] successful NUMA node read from SysFS had negative value (-1), but there must be at least one NUMA node, so returning NUMA node zero\n",
      "2022-07-25 03:03:03.715873: I tensorflow/stream_executor/cuda/cuda_gpu_executor.cc:980] successful NUMA node read from SysFS had negative value (-1), but there must be at least one NUMA node, so returning NUMA node zero\n",
      "2022-07-25 03:03:04.403989: I tensorflow/stream_executor/cuda/cuda_gpu_executor.cc:980] successful NUMA node read from SysFS had negative value (-1), but there must be at least one NUMA node, so returning NUMA node zero\n",
      "2022-07-25 03:03:04.404291: I tensorflow/stream_executor/cuda/cuda_gpu_executor.cc:980] successful NUMA node read from SysFS had negative value (-1), but there must be at least one NUMA node, so returning NUMA node zero\n",
      "2022-07-25 03:03:04.404470: I tensorflow/stream_executor/cuda/cuda_gpu_executor.cc:980] successful NUMA node read from SysFS had negative value (-1), but there must be at least one NUMA node, so returning NUMA node zero\n",
      "2022-07-25 03:03:04.404607: I tensorflow/core/common_runtime/gpu/gpu_device.cc:1616] Created device /job:localhost/replica:0/task:0/device:GPU:0 with 3381 MB memory:  -> device: 0, name: NVIDIA GeForce GTX 960M, pci bus id: 0000:02:00.0, compute capability: 5.0\n"
     ]
    },
    {
     "data": {
      "text/plain": [
       "<TensorSliceDataset element_spec=(TensorSpec(shape=(2,), dtype=tf.float32, name=None), TensorSpec(shape=(1,), dtype=tf.int32, name=None))>"
      ]
     },
     "execution_count": 20,
     "metadata": {},
     "output_type": "execute_result"
    }
   ],
   "source": [
    "# Note: I basically concluded that large sector_ids are not possible to embed(preprocess).\n",
    "# However, I thought of a way to represent sector_ids in tensors and that is one hot encoding and deep neural networks (aka. Dense, Fully connected)\n",
    "# It could be wrong and I want more research on \n",
    "#   **representing numbers in one-hot encoding and RNN**\n",
    "#   **Is it possible to feed LSTM large numbers**\n",
    "# also checkout tf.data.Dataset.grouping_window() and tf.data.Dataset.window() functions \n",
    "# i think they can be used to generate windows. gl\n",
    "ds = tf.data.Dataset.from_tensor_slices((features, target))\n",
    "dsn_features"
   ]
  },
  {
   "cell_type": "code",
   "execution_count": 22,
   "metadata": {},
   "outputs": [
    {
     "name": "stdout",
     "output_type": "stream",
     "text": [
      "maxSectorNumber: 1000213824\n",
      "maxBlocks: 0.6759364762275851\n"
     ]
    }
   ],
   "source": [
    "maxSectorNumber = np.amax(trainingData[\"sector_id\"])\n",
    "maxBlocks = np.amax(trainingData[\"# of blocks\"])\n",
    "print(\"maxSectorNumber:\", maxSectorNumber)\n",
    "print(\"maxBlocks:\", maxBlocks)"
   ]
  },
  {
   "cell_type": "code",
   "execution_count": 23,
   "metadata": {},
   "outputs": [
    {
     "name": "stdout",
     "output_type": "stream",
     "text": [
      "Num GPUs Available:  1\n"
     ]
    }
   ],
   "source": [
    "print(\"Num GPUs Available: \", len(tf.config.list_physical_devices('GPU')))"
   ]
  },
  {
   "cell_type": "code",
   "execution_count": 24,
   "metadata": {},
   "outputs": [
    {
     "ename": "NameError",
     "evalue": "name 'Sequential' is not defined",
     "output_type": "error",
     "traceback": [
      "\u001b[0;31m---------------------------------------------------------------------------\u001b[0m",
      "\u001b[0;31mNameError\u001b[0m                                 Traceback (most recent call last)",
      "\u001b[1;32m/home/skele/Documents/PNU/grad/grad-project/src/model/rnn_model.ipynb Cell 25\u001b[0m in \u001b[0;36m<cell line: 1>\u001b[0;34m()\u001b[0m\n\u001b[0;32m----> <a href='vscode-notebook-cell:/home/skele/Documents/PNU/grad/grad-project/src/model/rnn_model.ipynb#ch0000023?line=0'>1</a>\u001b[0m model \u001b[39m=\u001b[39m Sequential()\n\u001b[1;32m      <a href='vscode-notebook-cell:/home/skele/Documents/PNU/grad/grad-project/src/model/rnn_model.ipynb#ch0000023?line=2'>3</a>\u001b[0m \u001b[39m# embedding the sector number from 0-1\u001b[39;00m\n\u001b[1;32m      <a href='vscode-notebook-cell:/home/skele/Documents/PNU/grad/grad-project/src/model/rnn_model.ipynb#ch0000023?line=3'>4</a>\u001b[0m model\u001b[39m.\u001b[39madd(tf\u001b[39m.\u001b[39mkeras\u001b[39m.\u001b[39mlayers\u001b[39m.\u001b[39mEmbedding(input_dim\u001b[39m=\u001b[39mmaxSectorNumber\u001b[39m+\u001b[39m\u001b[39m1\u001b[39m,output_dim\u001b[39m=\u001b[39m\u001b[39m64\u001b[39m))\n",
      "\u001b[0;31mNameError\u001b[0m: name 'Sequential' is not defined"
     ]
    }
   ],
   "source": [
    "model = tf.keras.Sequential()\n",
    "\n",
    "# embedding the sector number from 0-1\n",
    "model.add(tf.keras.layers.Embedding(input_dim=maxSectorNumber+1,output_dim=64))\n",
    "\n",
    "model.add(tf.keras.layers.LSTM)"
   ]
  },
  {
   "cell_type": "code",
   "execution_count": null,
   "metadata": {},
   "outputs": [],
   "source": []
  }
 ],
 "metadata": {
  "kernelspec": {
   "display_name": "Python 3.10.4 64-bit",
   "language": "python",
   "name": "python3"
  },
  "language_info": {
   "codemirror_mode": {
    "name": "ipython",
    "version": 3
   },
   "file_extension": ".py",
   "mimetype": "text/x-python",
   "name": "python",
   "nbconvert_exporter": "python",
   "pygments_lexer": "ipython3",
   "version": "3.10.4"
  },
  "orig_nbformat": 4,
  "vscode": {
   "interpreter": {
    "hash": "31f2aee4e71d21fbe5cf8b01ff0e069b9275f58929596ceb00d14d90e3e16cd6"
   }
  }
 },
 "nbformat": 4,
 "nbformat_minor": 2
}
